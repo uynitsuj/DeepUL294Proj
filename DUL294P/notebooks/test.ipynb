{
 "cells": [
  {
   "cell_type": "code",
   "execution_count": 21,
   "metadata": {},
   "outputs": [
    {
     "name": "stdout",
     "output_type": "stream",
     "text": [
      "The autoreload extension is already loaded. To reload it, use:\n",
      "  %reload_ext autoreload\n"
     ]
    }
   ],
   "source": [
    "from torch import nn\n",
    "import torch\n",
    "import sys\n",
    "sys.path.append('..')\n",
    "from mae.models_mae import MaskedAutoencoderViT, partial\n",
    "\n",
    "%load_ext autoreload\n",
    "%autoreload 2"
   ]
  },
  {
   "cell_type": "code",
   "execution_count": 25,
   "metadata": {},
   "outputs": [
    {
     "name": "stdout",
     "output_type": "stream",
     "text": [
      "_IncompatibleKeys(missing_keys=['pool_proj.weight', 'pool_proj.bias'], unexpected_keys=[])\n"
     ]
    },
    {
     "data": {
      "text/plain": [
       "(torch.Size([1, 196, 768]), torch.Size([1, 512]))"
      ]
     },
     "execution_count": 25,
     "metadata": {},
     "output_type": "execute_result"
    }
   ],
   "source": [
    "model = MaskedAutoencoderViT(\n",
    "        patch_size=16, embed_dim=768, depth=12, num_heads=12,\n",
    "        decoder_embed_dim=512, decoder_depth=8, decoder_num_heads=16,\n",
    "        mlp_ratio=4, out_chans=768, norm_layer=partial(nn.LayerNorm, eps=1e-6), return_pooled=True)\n",
    "sd=torch.load('../models/mae_pretrain_vit_base_full.pth')['model']\n",
    "msg = model.load_state_dict(sd, strict=False)\n",
    "print(msg)\n",
    "\n",
    "img = torch.randn(1, 3, 224, 224)\n",
    "target = model.patchify(img)\n",
    "latent, mask, ids_restore = model.forward_encoder(img, .75)\n",
    "pred, pooled = model.forward_decoder(latent, ids_restore)\n",
    "pred.shape, pooled.shape"
   ]
  }
 ],
 "metadata": {
  "kernelspec": {
   "display_name": ".deepulenv",
   "language": "python",
   "name": "python3"
  },
  "language_info": {
   "codemirror_mode": {
    "name": "ipython",
    "version": 3
   },
   "file_extension": ".py",
   "mimetype": "text/x-python",
   "name": "python",
   "nbconvert_exporter": "python",
   "pygments_lexer": "ipython3",
   "version": "3.10.12"
  }
 },
 "nbformat": 4,
 "nbformat_minor": 2
}
