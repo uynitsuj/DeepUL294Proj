{
 "cells": [
  {
   "cell_type": "code",
   "execution_count": 14,
   "metadata": {},
   "outputs": [
    {
     "name": "stdout",
     "output_type": "stream",
     "text": [
      "The autoreload extension is already loaded. To reload it, use:\n",
      "  %reload_ext autoreload\n"
     ]
    }
   ],
   "source": [
    "from torch import nn\n",
    "import torch\n",
    "import sys\n",
    "from open_clip.loss import DistillClipLoss\n",
    "sys.path.append('..')\n",
    "from mae.models_mae import MaskedAutoencoderViT, partial\n",
    "sys.path.append('../..')\n",
    "from DUL294P.encoders.openclip_encoder import *\n",
    "\n",
    "\n",
    "%load_ext autoreload\n",
    "%autoreload 2"
   ]
  },
  {
   "cell_type": "code",
   "execution_count": 21,
   "metadata": {},
   "outputs": [],
   "source": [
    "def count_parameters(model):\n",
    "    return sum(p.numel() for p in model.parameters()) / 1e6"
   ]
  },
  {
   "cell_type": "code",
   "execution_count": 24,
   "metadata": {},
   "outputs": [
    {
     "data": {
      "text/plain": [
       "86.19264"
      ]
     },
     "execution_count": 24,
     "metadata": {},
     "output_type": "execute_result"
    }
   ],
   "source": [
    "count_parameters(clipencoder.model.visual)"
   ]
  },
  {
   "cell_type": "code",
   "execution_count": 3,
   "metadata": {},
   "outputs": [],
   "source": [
    "clipencoder = OpenCLIPNetworkConfig(device='cpu').setup()"
   ]
  },
  {
   "cell_type": "code",
   "execution_count": 4,
   "metadata": {},
   "outputs": [
    {
     "name": "stdout",
     "output_type": "stream",
     "text": [
      "_IncompatibleKeys(missing_keys=['pool_proj.weight', 'pool_proj.bias'], unexpected_keys=[])\n"
     ]
    },
    {
     "data": {
      "text/plain": [
       "(torch.Size([1, 196, 768]), torch.Size([1, 512]))"
      ]
     },
     "execution_count": 4,
     "metadata": {},
     "output_type": "execute_result"
    }
   ],
   "source": [
    "model = MaskedAutoencoderViT(\n",
    "        patch_size=16, embed_dim=768, depth=12, num_heads=12,\n",
    "        decoder_embed_dim=512, decoder_depth=8, decoder_num_heads=16,\n",
    "        mlp_ratio=4, out_chans=768, norm_layer=partial(nn.LayerNorm, eps=1e-6), return_pooled=True)\n",
    "sd=torch.load('../models/mae_pretrain_vit_base_full.pth')['model']\n",
    "msg = model.load_state_dict(sd, strict=False)\n",
    "print(msg)\n",
    "\n",
    "img = torch.randn(1, 3, 224, 224)\n",
    "target = model.patchify(img)\n",
    "latent, mask, ids_restore = model.forward_encoder(img, .75)\n",
    "pred, pooled = model.forward_decoder(latent, ids_restore)\n",
    "pred.shape, pooled.shape"
   ]
  },
  {
   "cell_type": "code",
   "execution_count": null,
   "metadata": {},
   "outputs": [],
   "source": [
    "import time\n",
    "img = torch.randn(8, 3, 224, 224)\n",
    "times = []\n",
    "model.float()\n",
    "model.to(\"cpu\")\n",
    "with torch.no_grad():\n",
    "  for _ in range(10):\n",
    "    img.normal_()\n",
    "    stime = time.time()\n",
    "    # target = model.patchify(img)\n",
    "    latent, mask, ids_restore = model.forward_encoder(img.to(\"cpu\"), 0.75)\n",
    "    # pred, pooled = model.forward_decoder(latent, ids_restore)\n",
    "    etime = time.time()\n",
    "    times.append(etime-stime)\n",
    "print(sum(times)/len(times))"
   ]
  },
  {
   "cell_type": "code",
   "execution_count": null,
   "metadata": {},
   "outputs": [],
   "source": [
    "0.015513920783996582\n",
    "0.008359954357147217"
   ]
  },
  {
   "cell_type": "code",
   "execution_count": 92,
   "metadata": {},
   "outputs": [
    {
     "name": "stdout",
     "output_type": "stream",
     "text": [
      "0.013010034561157227\n"
     ]
    }
   ],
   "source": [
    "import time\n",
    "img = torch.randn(8, 3, 224, 224)\n",
    "clipencoder.float().to(\"cuda:1\")\n",
    "times = []\n",
    "with torch.no_grad():\n",
    "  for _ in range(100):\n",
    "    img.normal_()\n",
    "    stime = time.time()\n",
    "    clipencoder.model.encode_image(img.to(\"cuda:1\"))\n",
    "    etime = time.time()\n",
    "    times.append(etime-stime)\n",
    "print(sum(times)/len(times))"
   ]
  },
  {
   "cell_type": "code",
   "execution_count": 60,
   "metadata": {},
   "outputs": [
    {
     "data": {
      "text/plain": [
       "(112.301568, 86.19264)"
      ]
     },
     "execution_count": 60,
     "metadata": {},
     "output_type": "execute_result"
    }
   ],
   "source": [
    "count_parameters(model), count_parameters(clipencoder.model.visual)"
   ]
  },
  {
   "cell_type": "code",
   "execution_count": 5,
   "metadata": {},
   "outputs": [],
   "source": [
    "txt = clipencoder.model.encode_text(clipencoder.tokenizer(['a photo of a cat',]), normalize=True)"
   ]
  },
  {
   "cell_type": "code",
   "execution_count": 6,
   "metadata": {},
   "outputs": [
    {
     "data": {
      "text/plain": [
       "Compose(\n",
       "    Resize(size=(224, 224), interpolation=bilinear, max_size=None, antialias=True)\n",
       "    Normalize(mean=[0.48145466, 0.4578275, 0.40821073], std=[0.26862954, 0.26130258, 0.27577711])\n",
       ")"
      ]
     },
     "execution_count": 6,
     "metadata": {},
     "output_type": "execute_result"
    }
   ],
   "source": [
    "clipencoder.process"
   ]
  },
  {
   "cell_type": "code",
   "execution_count": 7,
   "metadata": {},
   "outputs": [
    {
     "data": {
      "text/plain": [
       "(torch.Size([1, 196, 768]), torch.Size([1, 512]))"
      ]
     },
     "execution_count": 7,
     "metadata": {},
     "output_type": "execute_result"
    }
   ],
   "source": [
    "img_prepro = clipencoder.process(img).half()\n",
    "pooled_clp, pred_clp = clipencoder.model.encode_image(img_prepro)\n",
    "pred_clp.shape, pooled_clp.shape"
   ]
  },
  {
   "cell_type": "code",
   "execution_count": 17,
   "metadata": {},
   "outputs": [
    {
     "data": {
      "text/plain": [
       "(tensor([[-0.0165]], grad_fn=<MmBackward0>),\n",
       " tensor([[-0.0165]], grad_fn=<MmBackward0>))"
      ]
     },
     "execution_count": 17,
     "metadata": {},
     "output_type": "execute_result"
    }
   ],
   "source": [
    "(DistillClipLoss().get_logits(\n",
    "  pooled.float(), txt.float(), clipencoder.model.logit_scale, \n",
    "  pooled_clp.float(), txt.float(), clipencoder.model.logit_scale))"
   ]
  }
 ],
 "metadata": {
  "kernelspec": {
   "display_name": ".deepulenv",
   "language": "python",
   "name": "python3"
  },
  "language_info": {
   "codemirror_mode": {
    "name": "ipython",
    "version": 3
   },
   "file_extension": ".py",
   "mimetype": "text/x-python",
   "name": "python",
   "nbconvert_exporter": "python",
   "pygments_lexer": "ipython3",
   "version": "3.10.12"
  }
 },
 "nbformat": 4,
 "nbformat_minor": 2
}
