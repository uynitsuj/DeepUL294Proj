{
 "cells": [
  {
   "cell_type": "code",
   "execution_count": 4,
   "metadata": {},
   "outputs": [],
   "source": [
    "from datasets import load_dataset\n",
    "import sys\n",
    "sys.path.append('../..')\n",
    "from DUL294P.encoders.openclip_encoder import *\n",
    "from torch.utils import data"
   ]
  },
  {
   "cell_type": "code",
   "execution_count": 18,
   "metadata": {},
   "outputs": [],
   "source": [
    "# clipencoder = OpenCLIPNetworkConfig(device='cpu').setup()\n",
    "# ds_name = \"HuggingFaceM4/COCO\"\n",
    "# dataset = load_dataset(ds_name)\n",
    "# dataset.set_format(type=\"torch\")\n",
    "\n",
    "def collate_fn(batch):\n",
    "        return {\n",
    "            \"image\": [x[\"image\"] / 255.0 for x in batch],\n",
    "            'clip_image': torch.stack([clipencoder.process(x['image'] / 255.0) for x in batch]),\n",
    "            \"sentences\": [x[\"sentences\"] for x in batch],\n",
    "        }\n",
    "\n",
    "trainloader = data.DataLoader(\n",
    "    dataset[\"train\"],\n",
    "    128,\n",
    "    drop_last=True,\n",
    "    num_workers=5,\n",
    "    shuffle=True,\n",
    "    collate_fn=collate_fn,\n",
    ")"
   ]
  },
  {
   "cell_type": "code",
   "execution_count": 19,
   "metadata": {},
   "outputs": [],
   "source": [
    "batch = next(iter(trainloader))"
   ]
  },
  {
   "cell_type": "code",
   "execution_count": 21,
   "metadata": {},
   "outputs": [
    {
     "data": {
      "text/plain": [
       "torch.Size([128, 3, 224, 224])"
      ]
     },
     "execution_count": 21,
     "metadata": {},
     "output_type": "execute_result"
    },
    {
     "ename": "",
     "evalue": "",
     "output_type": "error",
     "traceback": [
      "\u001b[1;31mThe Kernel crashed while executing code in the current cell or a previous cell. \n",
      "\u001b[1;31mPlease review the code in the cell(s) to identify a possible cause of the failure. \n",
      "\u001b[1;31mClick <a href='https://aka.ms/vscodeJupyterKernelCrash'>here</a> for more info. \n",
      "\u001b[1;31mView Jupyter <a href='command:jupyter.viewOutput'>log</a> for further details."
     ]
    }
   ],
   "source": [
    "batch['clip_image'].shape"
   ]
  }
 ],
 "metadata": {
  "kernelspec": {
   "display_name": ".deepulenv",
   "language": "python",
   "name": "python3"
  },
  "language_info": {
   "codemirror_mode": {
    "name": "ipython",
    "version": 3
   },
   "file_extension": ".py",
   "mimetype": "text/x-python",
   "name": "python",
   "nbconvert_exporter": "python",
   "pygments_lexer": "ipython3",
   "version": "3.10.12"
  }
 },
 "nbformat": 4,
 "nbformat_minor": 2
}
